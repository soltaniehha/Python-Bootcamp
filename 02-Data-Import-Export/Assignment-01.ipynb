annual_growth_rate = 0.12  # based on 12% we are given
# projected growth
years = 9
# normalized for simplicity
initial_rev = 1
# rate projection could increase by being 25%
volatility_index = 1.25
# compounded growth over 9 years
projected_growth = initial_rev * (1 + annual_growth_rate) ** years
# adjusted for market volatility
adjusted_growth = projected_growth * volatility_index
# round adjusted growth to 2 decimals
adjusted_growth = round(adjusted_growth, 2)
# classify growth potential
if adjusted_growth > 3:
    growth_potential = 'High Growth Potential'
elif adjusted_growth >= 1.5:
    growth_potential = 'Moderate Growth Potential'
else:
    growth_potential = 'Low Growth Potential'
    print(f"Projected Growth(without adjustment):{projected_growth:.2f}")
